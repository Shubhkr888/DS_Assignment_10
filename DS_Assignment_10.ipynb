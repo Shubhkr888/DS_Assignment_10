{
  "nbformat": 4,
  "nbformat_minor": 0,
  "metadata": {
    "colab": {
      "provenance": []
    },
    "kernelspec": {
      "name": "python3",
      "display_name": "Python 3"
    },
    "language_info": {
      "name": "python"
    }
  },
  "cells": [
    {
      "cell_type": "code",
      "execution_count": 1,
      "metadata": {
        "colab": {
          "base_uri": "https://localhost:8080/"
        },
        "id": "Eoljzf-_iLSG",
        "outputId": "62662c76-d1b4-4f65-d79e-b6cfa185c9ec"
      },
      "outputs": [
        {
          "output_type": "stream",
          "name": "stdout",
          "text": [
            "True\n",
            "False\n"
          ]
        }
      ],
      "source": [
        "#Question 1\n",
        "def isPowerOfThree(n):\n",
        "    if n <= 0:\n",
        "        return False\n",
        "\n",
        "    while n % 3 == 0:\n",
        "        n //= 3\n",
        "\n",
        "    return n == 1\n",
        "print(isPowerOfThree(27))  # Output: True\n",
        "print(isPowerOfThree(0))  # Output: False\n"
      ]
    },
    {
      "cell_type": "code",
      "source": [
        "#Question 2\n",
        "def lastRemaining(n):\n",
        "    left_to_right = True\n",
        "    remaining = n\n",
        "    step = 1\n",
        "    start = 1\n",
        "\n",
        "    while remaining > 1:\n",
        "        if left_to_right or remaining % 2 == 1:\n",
        "            start += step\n",
        "\n",
        "        remaining //= 2\n",
        "        step *= 2\n",
        "        left_to_right = not left_to_right\n",
        "\n",
        "    return start\n",
        "\n",
        "print(lastRemaining(9))  # Output: 6\n"
      ],
      "metadata": {
        "colab": {
          "base_uri": "https://localhost:8080/"
        },
        "id": "f2C2JE4-iSna",
        "outputId": "0169fd89-b2f8-432f-8429-32c61112a6c1"
      },
      "execution_count": 2,
      "outputs": [
        {
          "output_type": "stream",
          "name": "stdout",
          "text": [
            "6\n"
          ]
        }
      ]
    },
    {
      "cell_type": "code",
      "source": [
        "#Question 3\n",
        "def printSubsets(set, current, index):\n",
        "    if index == len(set):\n",
        "        print(current)\n",
        "        return\n",
        "\n",
        "    printSubsets(set, current + set[index], index + 1)\n",
        "    printSubsets(set, current, index + 1)\n",
        "\n",
        "\n",
        "# Test the function\n",
        "set1 = \"abc\"\n",
        "print(\"Subsets of set '{}'\".format(set1))\n",
        "printSubsets(set1, \"\", 0)\n",
        "\n",
        "set2 = \"abcd\"\n",
        "print(\"Subsets of set '{}'\".format(set2))\n",
        "printSubsets(set2, \"\", 0)\n"
      ],
      "metadata": {
        "colab": {
          "base_uri": "https://localhost:8080/"
        },
        "id": "nMMivjoYiTcZ",
        "outputId": "bc52e45e-434e-4053-f54d-aefcfb070dec"
      },
      "execution_count": 3,
      "outputs": [
        {
          "output_type": "stream",
          "name": "stdout",
          "text": [
            "Subsets of set 'abc'\n",
            "abc\n",
            "ab\n",
            "ac\n",
            "a\n",
            "bc\n",
            "b\n",
            "c\n",
            "\n",
            "Subsets of set 'abcd'\n",
            "abcd\n",
            "abc\n",
            "abd\n",
            "ab\n",
            "acd\n",
            "ac\n",
            "ad\n",
            "a\n",
            "bcd\n",
            "bc\n",
            "bd\n",
            "b\n",
            "cd\n",
            "c\n",
            "d\n",
            "\n"
          ]
        }
      ]
    },
    {
      "cell_type": "code",
      "source": [
        "#Question 4\n",
        "def calculateLength(str, index):\n",
        "    if index == len(str):\n",
        "        return 0\n",
        "    return 1 + calculateLength(str, index + 1)\n",
        "\n",
        "\n",
        "# Test the function\n",
        "str1 = \"Hello, World!\"\n",
        "print(\"Length of string '{}':\".format(str1))\n",
        "print(calculateLength(str1, 0))\n",
        "\n",
        "str2 = \"Recursion\"\n",
        "print(\"Length of string '{}':\".format(str2))\n",
        "print(calculateLength(str2, 0))"
      ],
      "metadata": {
        "colab": {
          "base_uri": "https://localhost:8080/"
        },
        "id": "Dqmk18ukiTjb",
        "outputId": "b6193386-7254-46e9-8f18-4d41eb4b9a1b"
      },
      "execution_count": 4,
      "outputs": [
        {
          "output_type": "stream",
          "name": "stdout",
          "text": [
            "Length of string 'Hello, World!':\n",
            "13\n",
            "Length of string 'Recursion':\n",
            "9\n"
          ]
        }
      ]
    },
    {
      "cell_type": "code",
      "source": [
        "#Question 5\n",
        "def countSubstrings(S):\n",
        "    count = 0\n",
        "    for i in range(len(S)):\n",
        "        count += S.count(S[i])\n",
        "    return count\n",
        "\n",
        "# Test the function\n",
        "S1 = \"abc\"\n",
        "print(\"Count of contiguous substrings in '{}':\".format(S1))\n",
        "print(countSubstrings(S1))\n",
        "\n",
        "S2 = \"aab\"\n",
        "print(\"Count of contiguous substrings in '{}':\".format(S2))\n",
        "print(countSubstrings(S2))\n"
      ],
      "metadata": {
        "colab": {
          "base_uri": "https://localhost:8080/"
        },
        "id": "bwIQtVwLiTl6",
        "outputId": "5b819ff2-ea45-4e6b-94a0-6f7142cc9432"
      },
      "execution_count": 5,
      "outputs": [
        {
          "output_type": "stream",
          "name": "stdout",
          "text": [
            "Count of contiguous substrings in 'abc':\n",
            "3\n",
            "Count of contiguous substrings in 'aab':\n",
            "5\n"
          ]
        }
      ]
    },
    {
      "cell_type": "code",
      "source": [
        "#Question 6\n",
        "def towerOfHanoi(n, source, destination, auxiliary):\n",
        "    if n == 1:\n",
        "        print(\"Move disk 1 from rod {} to rod {}\".format(source, destination))\n",
        "        return\n",
        "\n",
        "    towerOfHanoi(n - 1, source, auxiliary, destination)\n",
        "    print(\"Move disk {} from rod {} to rod {}\".format(n, source, destination))\n",
        "    towerOfHanoi(n - 1, auxiliary, destination, source)\n",
        "\n",
        "\n",
        "# Test the function\n",
        "n = 3\n",
        "source_rod = 1\n",
        "destination_rod = 3\n",
        "auxiliary_rod = 2\n",
        "\n",
        "print(\"Steps to solve Tower of Hanoi with {} discs:\".format(n))\n",
        "towerOfHanoi(n, source_rod, destination_rod, auxiliary_rod)\n"
      ],
      "metadata": {
        "colab": {
          "base_uri": "https://localhost:8080/"
        },
        "id": "LRUBSiu_iToZ",
        "outputId": "58435854-8e05-42a8-f102-e9b9624583d4"
      },
      "execution_count": 6,
      "outputs": [
        {
          "output_type": "stream",
          "name": "stdout",
          "text": [
            "Steps to solve Tower of Hanoi with 3 discs:\n",
            "Move disk 1 from rod 1 to rod 3\n",
            "Move disk 2 from rod 1 to rod 2\n",
            "Move disk 1 from rod 3 to rod 2\n",
            "Move disk 3 from rod 1 to rod 3\n",
            "Move disk 1 from rod 2 to rod 1\n",
            "Move disk 2 from rod 2 to rod 3\n",
            "Move disk 1 from rod 1 to rod 3\n"
          ]
        }
      ]
    },
    {
      "cell_type": "code",
      "source": [
        "#Question 7\n",
        "def permute(str, left, right):\n",
        "    if left == right:\n",
        "        print(str)\n",
        "        return\n",
        "\n",
        "    for i in range(left, right + 1):\n",
        "        str = swap(str, left, i)\n",
        "        permute(str, left + 1, right)\n",
        "        str = swap(str, left, i)  # Undo the swap\n",
        "\n",
        "def swap(str, i, j):\n",
        "    chars = list(str)\n",
        "    chars[i], chars[j] = chars[j], chars[i]\n",
        "    return ''.join(chars)\n",
        "\n",
        "\n",
        "# Test the function\n",
        "str1 = \"cd\"\n",
        "print(\"Permutations of string '{}'\".format(str1))\n",
        "permute(str1, 0, len(str1) - 1)\n",
        "\n",
        "str2 = \"abb\"\n",
        "print(\"Permutations of string '{}'\".format(str2))\n",
        "permute(str2, 0, len(str2) - 1)\n"
      ],
      "metadata": {
        "colab": {
          "base_uri": "https://localhost:8080/"
        },
        "id": "YEJ9TnbgiTq8",
        "outputId": "4a6b1109-ce6a-4e04-d030-4eea4540a529"
      },
      "execution_count": 7,
      "outputs": [
        {
          "output_type": "stream",
          "name": "stdout",
          "text": [
            "Permutations of string 'cd'\n",
            "cd\n",
            "dc\n",
            "Permutations of string 'abb'\n",
            "abb\n",
            "abb\n",
            "bab\n",
            "bba\n",
            "bba\n",
            "bab\n"
          ]
        }
      ]
    },
    {
      "cell_type": "code",
      "source": [
        "#Question 8\n",
        "def countConsonants(string):\n",
        "    consonants = set('bcdfghjklmnpqrstvwxyzBCDFGHJKLMNPQRSTVWXYZ')\n",
        "    count = 0\n",
        "\n",
        "    for ch in string:\n",
        "        if ch in consonants:\n",
        "            count += 1\n",
        "\n",
        "    return count\n",
        "\n",
        "\n",
        "# Test the function\n",
        "string1 = \"Hello, World!\"\n",
        "print(\"Total number of consonants in '{}':\".format(string1))\n",
        "print(countConsonants(string1))\n",
        "\n",
        "string2 = \"Python Programming\"\n",
        "print(\"Total number of consonants in '{}':\".format(string2))\n",
        "print(countConsonants(string2))\n"
      ],
      "metadata": {
        "colab": {
          "base_uri": "https://localhost:8080/"
        },
        "id": "6TT77ftXiTtW",
        "outputId": "5edd4234-4dc4-4664-c768-8de5bea921b1"
      },
      "execution_count": 8,
      "outputs": [
        {
          "output_type": "stream",
          "name": "stdout",
          "text": [
            "Total number of consonants in 'Hello, World!':\n",
            "7\n",
            "Total number of consonants in 'Python Programming':\n",
            "13\n"
          ]
        }
      ]
    }
  ]
}